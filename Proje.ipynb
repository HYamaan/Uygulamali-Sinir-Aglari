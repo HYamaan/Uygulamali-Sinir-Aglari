{
 "cells": [
  {
   "cell_type": "code",
   "execution_count": 3,
   "metadata": {},
   "outputs": [
    {
     "ename": "NotADirectoryError",
     "evalue": "[WinError 267] Dizin adı geçersiz: 'C:/Users/hakan/Desktop/KablosuzAg/Proje/GTSRB\\\\Test\\\\00000.png'",
     "output_type": "error",
     "traceback": [
      "\u001b[1;31m---------------------------------------------------------------------------\u001b[0m",
      "\u001b[1;31mNotADirectoryError\u001b[0m                        Traceback (most recent call last)",
      "Cell \u001b[1;32mIn[3], line 53\u001b[0m\n\u001b[0;32m     51\u001b[0m \u001b[38;5;66;03m# Veri yüklemeyi yeniden yap\u001b[39;00m\n\u001b[0;32m     52\u001b[0m X_train, y_train \u001b[38;5;241m=\u001b[39m load_data(train_path)\n\u001b[1;32m---> 53\u001b[0m X_test, y_test \u001b[38;5;241m=\u001b[39m \u001b[43mload_data\u001b[49m\u001b[43m(\u001b[49m\u001b[43mtest_path\u001b[49m\u001b[43m)\u001b[49m\n\u001b[0;32m     54\u001b[0m X_valid, y_valid \u001b[38;5;241m=\u001b[39m load_data(valid_path)\n\u001b[0;32m     56\u001b[0m \u001b[38;5;66;03m# Normalizasyon işlemleri\u001b[39;00m\n",
      "Cell \u001b[1;32mIn[3], line 36\u001b[0m, in \u001b[0;36mload_data\u001b[1;34m(path)\u001b[0m\n\u001b[0;32m     34\u001b[0m \u001b[38;5;28;01mfor\u001b[39;00m folder \u001b[38;5;129;01min\u001b[39;00m os\u001b[38;5;241m.\u001b[39mlistdir(path):\n\u001b[0;32m     35\u001b[0m     folder_path \u001b[38;5;241m=\u001b[39m os\u001b[38;5;241m.\u001b[39mpath\u001b[38;5;241m.\u001b[39mjoin(path, folder)\n\u001b[1;32m---> 36\u001b[0m     \u001b[38;5;28;01mfor\u001b[39;00m file \u001b[38;5;129;01min\u001b[39;00m os\u001b[38;5;241m.\u001b[39mlistdir(folder_path):\n\u001b[0;32m     37\u001b[0m         img_path \u001b[38;5;241m=\u001b[39m os\u001b[38;5;241m.\u001b[39mpath\u001b[38;5;241m.\u001b[39mjoin(folder_path, file)\n\u001b[0;32m     38\u001b[0m         img \u001b[38;5;241m=\u001b[39m cv2\u001b[38;5;241m.\u001b[39mimread(img_path)\n",
      "\u001b[1;31mNotADirectoryError\u001b[0m: [WinError 267] Dizin adı geçersiz: 'C:/Users/hakan/Desktop/KablosuzAg/Proje/GTSRB\\\\Test\\\\00000.png'"
     ]
    }
   ],
   "source": [
    "import numpy as np\n",
    "import os\n",
    "import cv2\n",
    "from tensorflow.keras.utils import to_categorical\n",
    "\n",
    "# Dosya yolları\n",
    "base_path = \"C:/Users/hakan/Desktop/KablosuzAg/Proje/GTSRB\"\n",
    "train_path = os.path.join(base_path, \"Train\")\n",
    "test_path = os.path.join(base_path, \"Test\")\n",
    "valid_path = os.path.join(base_path, \"Valid\")\n",
    "\n",
    "def load_data(path, is_flat=False):\n",
    "    images = []\n",
    "    labels = []\n",
    "    if is_flat:\n",
    "        # Dosyalar doğrudan ana dizinde\n",
    "        for file in os.listdir(path):\n",
    "            img_path = os.path.join(path, file)\n",
    "            img = cv2.imread(img_path)\n",
    "            if img is None:\n",
    "                print(f\"Error loading image {img_path}\")\n",
    "                continue\n",
    "            img = cv2.resize(img, (32, 32))\n",
    "            img = cv2.cvtColor(img, cv2.COLOR_BGR2RGB)\n",
    "            images.append(img)\n",
    "            labels.append(int(file.split('_')[0]))  # Dosya adının başlangıcı etiket numarası\n",
    "    else:\n",
    "        # Klasörler altında dosyalar\n",
    "        for folder in os.listdir(path):\n",
    "            folder_path = os.path.join(path, folder)\n",
    "            if not os.path.isdir(folder_path):\n",
    "                continue  # Dizin değilse atla\n",
    "            for file in os.listdir(folder_path):\n",
    "                img_path = os.path.join(folder_path, file)\n",
    "                img = cv2.imread(img_path)\n",
    "                if img is None:\n",
    "                    print(f\"Error loading image {img_path}\")\n",
    "                    continue\n",
    "                img = cv2.resize(img, (32, 32))\n",
    "                img = cv2.cvtColor(img, cv2.COLOR_BGR2RGB)\n",
    "                images.append(img)\n",
    "                labels.append(int(folder))\n",
    "    images = np.array(images)\n",
    "    labels = np.array(labels)\n",
    "    return images, labels\n",
    "\n",
    "# Veri yüklemeyi yapılandır\n",
    "X_train, y_train = load_data(train_path)\n",
    "X_test, y_test = load_data(test_path, is_flat=True)  # Test için düz dosya yapısını belirt\n",
    "X_valid, y_valid = load_data(valid_path)\n",
    "\n",
    "# Normalize images\n",
    "X_train = X_train.astype('float32') / 255\n",
    "X_test = X_test.astype('float32') / 255\n",
    "X_valid = X_valid.astype('float32') / 255\n",
    "\n",
    "# Convert labels to one-hot encoding\n",
    "y_train = to_categorical(y_train)\n",
    "y_test = to_categorical(y_test)\n",
    "y_valid = to_categorical(y_valid)\n"
   ]
  },
  {
   "cell_type": "markdown",
   "metadata": {},
   "source": []
  }
 ],
 "metadata": {
  "kernelspec": {
   "display_name": "Python 3",
   "language": "python",
   "name": "python3"
  },
  "language_info": {
   "codemirror_mode": {
    "name": "ipython",
    "version": 3
   },
   "file_extension": ".py",
   "mimetype": "text/x-python",
   "name": "python",
   "nbconvert_exporter": "python",
   "pygments_lexer": "ipython3",
   "version": "3.11.9"
  }
 },
 "nbformat": 4,
 "nbformat_minor": 2
}
